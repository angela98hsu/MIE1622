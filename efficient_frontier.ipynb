{
 "cells": [
  {
   "cell_type": "markdown",
   "metadata": {},
   "source": [
    "# Mean-variance portfolio selection"
   ]
  },
  {
   "cell_type": "markdown",
   "metadata": {},
   "source": [
    "### Import libraries"
   ]
  },
  {
   "cell_type": "code",
   "execution_count": 1,
   "metadata": {},
   "outputs": [],
   "source": [
    "import cvxpy as cp\n",
    "import numpy as np\n",
    "import matplotlib.pyplot as plt\n",
    "%matplotlib inline"
   ]
  },
  {
   "cell_type": "code",
   "execution_count": 2,
   "metadata": {},
   "outputs": [],
   "source": [
    "#np.random.seed(1337)\n",
    "#np.random.seed(178365)\n",
    "np.random.seed(978351)"
   ]
  },
  {
   "cell_type": "markdown",
   "metadata": {},
   "source": [
    "### Generate random data for 10 stocks"
   ]
  },
  {
   "cell_type": "code",
   "execution_count": 3,
   "metadata": {},
   "outputs": [],
   "source": [
    "# Random data for 10 stocks\n",
    "n = 10\n",
    "Q = np.random.random((n,n))\n",
    "Q = np.dot(Q,Q.T)/1000\n",
    "# Q\n",
    "mu = np.random.rand(n) / 100\n",
    "# mu"
   ]
  },
  {
   "cell_type": "markdown",
   "metadata": {},
   "source": [
    "### Step 1 - compute minimum variance portfolio"
   ]
  },
  {
   "cell_type": "markdown",
   "metadata": {},
   "source": [
    "\\begin{equation}\n",
    "\\begin{array}{rl}\n",
    "\\displaystyle \\min_{w} & w^TQw \\\\\n",
    "{\\rm s.t.} & \\sum_i w_i = 1\\\\\n",
    "& w \\geq 0\n",
    "\\end{array}\n",
    "\\end{equation}"
   ]
  },
  {
   "cell_type": "code",
   "execution_count": 4,
   "metadata": {},
   "outputs": [
    {
     "name": "stdout",
     "output_type": "stream",
     "text": [
      "Version identifier: 20.1.0.0 | 2020-11-10 | 9bedb6d68\n",
      "CPXPARAM_Read_DataCheck                          1\n",
      "CPXPARAM_QPMethod                                6\n",
      "Parallel mode: deterministic, using up to 8 threads for concurrent optimization:\n",
      " * Starting dual Simplex on 1 thread...\n",
      " * Starting Barrier on 6 threads...\n",
      " * Starting primal Simplex on 1 thread...\n",
      "Number of nonzeros in lower triangle of Q = 45\n",
      "Using Approximate Minimum Degree ordering\n",
      "Total time for automatic ordering = 0.02 sec. (0.00 ticks)\n",
      "Summary statistics for factor of Q:\n",
      "  Rows in Factor            = 10\n",
      "  Integer space required    = 10\n",
      "  Total non-zeros in factor = 55\n",
      "  Total FP ops to factor    = 385\n",
      "Tried aggregator 1 time.\n",
      "QP Presolve eliminated 10 rows and 0 columns.\n",
      "Number of nonzeros in lower triangle of Q = 45\n",
      "Using Approximate Minimum Degree ordering\n",
      "Total time for automatic ordering = 0.01 sec. (0.00 ticks)\n",
      "Summary statistics for factor of Q:\n",
      "  Rows in Factor            = 10\n",
      "  Integer space required    = 10\n",
      "  Total non-zeros in factor = 55\n",
      "  Total FP ops to factor    = 385\n",
      "Reduced QP has 1 rows, 10 columns, and 10 nonzeros.\n",
      "Reduced QP objective Q matrix has 100 nonzeros.\n",
      "Presolve time = 0.05 sec. (0.02 ticks)\n",
      "\n",
      "Iteration log . . .\n",
      "Iteration:     1    Objective     =             0.000000\n",
      "\n",
      "Dual simplex solved model.\n",
      "\n",
      "\n",
      "Solution status:  optimal\n",
      "Solution optimal value:  0.0018990924026013078\n",
      "Solution w: \n",
      "[0.         0.4020407  0.21289059 0.         0.         0.\n",
      " 0.         0.38506871 0.         0.        ]\n"
     ]
    }
   ],
   "source": [
    "w1 = cp.Variable(n)\n",
    "prob1 = cp.Problem(cp.Minimize(cp.quad_form(w1, Q)),\n",
    "                 [sum(w1) == 1,\n",
    "                  w1 >= 0])\n",
    "prob1.solve(solver=cp.CPLEX, verbose=True,cplex_params={\"qpmethod\": 6})\n",
    "\n",
    "# Print results\n",
    "print(\"\\nSolution status: \", prob1.status)\n",
    "print(\"Solution optimal value: \", prob1.value)\n",
    "print(\"Solution w: \")\n",
    "print(w1.value)"
   ]
  },
  {
   "cell_type": "code",
   "execution_count": 5,
   "metadata": {},
   "outputs": [
    {
     "data": {
      "text/plain": [
       "True"
      ]
     },
     "execution_count": 5,
     "metadata": {},
     "output_type": "execute_result"
    }
   ],
   "source": [
    "# Check constraint\n",
    "np.allclose(np.sum(w1.value),1)"
   ]
  },
  {
   "cell_type": "code",
   "execution_count": 6,
   "metadata": {},
   "outputs": [
    {
     "name": "stdout",
     "output_type": "stream",
     "text": [
      "Minimum variance portfolio:\n",
      "\n",
      "   Solution status = optimal\n",
      "    Solution value = 0.0018990924026013078\n",
      "          Variance = 0.001899092402601308\n",
      "   Expected return = 0.0032674778416423404\n",
      "Standard deviation = 0.043578577335673864\n"
     ]
    }
   ],
   "source": [
    "w_minVar = w1.value\n",
    "var_minVar = np.dot(w_minVar, np.dot(Q, w_minVar))\n",
    "ret_minVar = np.dot(mu, w_minVar)\n",
    "print(\"Minimum variance portfolio:\\n\")\n",
    "print(\"   Solution status =\", prob1.status)\n",
    "print(\"    Solution value =\", prob1.value)\n",
    "print(\"          Variance =\", var_minVar)\n",
    "print(\"   Expected return =\", ret_minVar)\n",
    "print(\"Standard deviation =\", np.sqrt(var_minVar))"
   ]
  },
  {
   "cell_type": "markdown",
   "metadata": {},
   "source": [
    "### Step 2 - compute maximum return portfolio"
   ]
  },
  {
   "cell_type": "markdown",
   "metadata": {},
   "source": [
    "\\begin{equation}\n",
    "\\begin{array}{rl}\n",
    "\\displaystyle \\max_{w} & \\mu^Tw \\\\\n",
    "{\\rm s.t.} & \\sum_i w_i = 1\\\\\n",
    "& w \\geq 0\n",
    "\\end{array}\n",
    "\\end{equation}"
   ]
  },
  {
   "cell_type": "code",
   "execution_count": 7,
   "metadata": {},
   "outputs": [
    {
     "name": "stdout",
     "output_type": "stream",
     "text": [
      "Version identifier: 20.1.0.0 | 2020-11-10 | 9bedb6d68\n",
      "CPXPARAM_Read_DataCheck                          1\n",
      "CPXPARAM_QPMethod                                6\n",
      "Tried aggregator 1 time.\n",
      "LP Presolve eliminated 11 rows and 10 columns.\n",
      "All rows and columns eliminated.\n",
      "Presolve time = 0.00 sec. (0.00 ticks)\n",
      "\n",
      "Solution status:  optimal\n",
      "Solution optimal value:  0.00893492393857598\n",
      "Solution w: \n",
      "[0. 0. 0. 0. 0. 1. 0. 0. 0. 0.]\n"
     ]
    }
   ],
   "source": [
    "w2 = cp.Variable(n)\n",
    "prob2 = cp.Problem(cp.Maximize(mu.T@w2),\n",
    "                 [sum(w2) == 1,\n",
    "                  w2 >= 0])\n",
    "prob2.solve(solver=cp.CPLEX, verbose=True,cplex_params={\"qpmethod\": 6})\n",
    "\n",
    "# Print results\n",
    "print(\"\\nSolution status: \", prob2.status)\n",
    "print(\"Solution optimal value: \", prob2.value)\n",
    "print(\"Solution w: \")\n",
    "print(w2.value)"
   ]
  },
  {
   "cell_type": "code",
   "execution_count": 8,
   "metadata": {},
   "outputs": [
    {
     "name": "stdout",
     "output_type": "stream",
     "text": [
      "Maximum return portfolio:\n",
      "\n",
      "   Solution status = optimal\n",
      "    Solution value = 0.00893492393857598\n",
      "   Expected return = 0.00893492393857598\n",
      "          Variance = 0.004450415294550667\n",
      "Standard deviation = 0.0667114330122706\n"
     ]
    }
   ],
   "source": [
    "w_maxRet = w2.value\n",
    "var_maxRet = np.dot(w_maxRet, np.dot(Q, w_maxRet))\n",
    "ret_maxRet = np.dot(mu, w_maxRet)\n",
    "print(\"Maximum return portfolio:\\n\")\n",
    "print(\"   Solution status =\", prob2.status)\n",
    "print(\"    Solution value =\", prob2.value)\n",
    "print(\"   Expected return =\", ret_maxRet)\n",
    "print(\"          Variance =\", var_maxRet)\n",
    "print(\"Standard deviation =\", np.sqrt(var_maxRet))"
   ]
  },
  {
   "cell_type": "markdown",
   "metadata": {},
   "source": [
    "### Step 3 - compute mean-variance efficient frontier"
   ]
  },
  {
   "cell_type": "markdown",
   "metadata": {},
   "source": [
    "\\begin{equation}\n",
    "\\begin{array}{rl}\n",
    "\\displaystyle \\min_{w} & w^TQw \\\\\n",
    "{\\rm s.t.} & \\mu^Tw \\geq \\varepsilon \\\\\n",
    "&\\sum_i w_i = 1\\\\\n",
    "& w \\geq 0\n",
    "\\end{array}\n",
    "\\end{equation}\n",
    "\\begin{equation}\n",
    "\\varepsilon \\in [\\varepsilon_{R_{\\rm minVar}},\\varepsilon_{R_{\\rm maxRet}}]\n",
    "\\end{equation}"
   ]
  },
  {
   "cell_type": "code",
   "execution_count": 9,
   "metadata": {},
   "outputs": [
    {
     "data": {
      "text/plain": [
       "array([0.00326748, 0.00338314, 0.0034988 , 0.00361446, 0.00373013,\n",
       "       0.00384579, 0.00396145, 0.00407711, 0.00419278, 0.00430844,\n",
       "       0.0044241 , 0.00453976, 0.00465542, 0.00477109, 0.00488675,\n",
       "       0.00500241, 0.00511807, 0.00523373, 0.0053494 , 0.00546506,\n",
       "       0.00558072, 0.00569638, 0.00581205, 0.00592771, 0.00604337,\n",
       "       0.00615903, 0.00627469, 0.00639036, 0.00650602, 0.00662168,\n",
       "       0.00673734, 0.006853  , 0.00696867, 0.00708433, 0.00719999,\n",
       "       0.00731565, 0.00743132, 0.00754698, 0.00766264, 0.0077783 ,\n",
       "       0.00789396, 0.00800963, 0.00812529, 0.00824095, 0.00835661,\n",
       "       0.00847228, 0.00858794, 0.0087036 , 0.00881926, 0.00893492])"
      ]
     },
     "execution_count": 9,
     "metadata": {},
     "output_type": "execute_result"
    }
   ],
   "source": [
    "# Target returns\n",
    "targetRet = np.linspace(ret_minVar,ret_maxRet,50)\n",
    "targetRet"
   ]
  },
  {
   "cell_type": "code",
   "execution_count": 10,
   "metadata": {},
   "outputs": [
    {
     "name": "stdout",
     "output_type": "stream",
     "text": [
      "\n",
      "Solution status:  optimal\n",
      "Solution optimal value:  0.0018990924026013078\n",
      "Solution w: \n",
      "[0.         0.4020407  0.21289059 0.         0.         0.\n",
      " 0.         0.38506871 0.         0.        ]\n"
     ]
    }
   ],
   "source": [
    "# Define optimization problem and compute one portfolio on efficient frontier\n",
    "w = cp.Variable(n)\n",
    "eps = cp.Parameter()\n",
    "eps.value = targetRet[0]\n",
    "prob3 = cp.Problem(cp.Minimize(cp.quad_form(w, Q)),\n",
    "                 [mu.T@w >= eps,\n",
    "                  sum(w) == 1,\n",
    "                  w >= 0])\n",
    "prob3.solve(solver=cp.CPLEX, verbose=False,cplex_params={\"qpmethod\": 6})\n",
    "\n",
    "# Print results\n",
    "print(\"\\nSolution status: \", prob3.status)\n",
    "print(\"Solution optimal value: \", prob3.value)\n",
    "print(\"Solution w: \")\n",
    "print(w.value)"
   ]
  },
  {
   "cell_type": "code",
   "execution_count": 11,
   "metadata": {},
   "outputs": [],
   "source": [
    "# Compute efficient frontier\n",
    "w_front = []\n",
    "var_front = []\n",
    "ret_front = []\n",
    "for epsilon in targetRet:\n",
    "    eps.value = epsilon\n",
    "    prob3.solve(solver=cp.CPLEX, verbose=False,cplex_params={\"qpmethod\": 6})\n",
    "    w_front.append(w.value)\n",
    "    var_front.append(np.dot(w.value, np.dot(Q, w.value)))\n",
    "    ret_front.append(np.dot(mu, w.value))"
   ]
  },
  {
   "cell_type": "markdown",
   "metadata": {},
   "source": [
    "Plot efficient frontier"
   ]
  },
  {
   "cell_type": "code",
   "execution_count": 13,
   "metadata": {},
   "outputs": [
    {
     "data": {
      "image/png": "[encoded data removed]",
      "text/plain": [
       "<Figure size 720x360 with 1 Axes>"
      ]
     },
     "metadata": {
      "needs_background": "light"
     },
     "output_type": "display_data"
    }
   ],
   "source": [
    "ax = plt.gca()\n",
    "plt.rcParams['figure.figsize'] = [10, 5]\n",
    "#plt.rcParams['figure.dpi'] = 200\n",
    "    \n",
    "# Plot volatility versus expected return for minimum variance portfolio\n",
    "ax.scatter(x=np.sqrt(var_minVar), y=ret_minVar, marker='D', s=50,  color='DarkGreen', label='minimum variance portfolio')\n",
    "\n",
    "# Plot volatility versus expected return for maximum return portfolio\n",
    "ax.scatter(x=np.sqrt(var_maxRet), y=ret_maxRet,  marker='s', s=50, color='DarkMagenta', label='maximum return portfolio')\n",
    "\n",
    "# Plot efficient frontier\n",
    "ax.plot(np.sqrt(var_front), ret_front, 'k-', label='efficient frontier')\n",
    "\n",
    "# Plot volatility versus expected return for individual stocks\n",
    "ax.scatter(x=np.sqrt(np.diag(Q)), y=mu, color='Blue', label='individual stocks')\n",
    "\n",
    "# Format and display the final plot\n",
    "ax.axis([0.9*np.sqrt(var_minVar), 1.2*np.max(np.sqrt(np.diag(Q))), np.min(mu)-0.1*(np.max(mu)-np.min(mu)), 1.1*ret_maxRet])\n",
    "ax.set_xlabel('Volatility (Standard Deviation)')\n",
    "ax.set_ylabel('Expected Return')\n",
    "plt.title('Efficient Frontier')\n",
    "ax.legend(loc=\"lower right\")\n",
    "ax.grid()\n",
    "plt.show()"
   ]
  },
  {
   "cell_type": "markdown",
   "metadata": {},
   "source": [
    "### Define and solve CPLEX model directly without CVXPY"
   ]
  },
  {
   "cell_type": "code",
   "execution_count": 14,
   "metadata": {},
   "outputs": [],
   "source": [
    "import cplex"
   ]
  },
  {
   "cell_type": "code",
   "execution_count": 15,
   "metadata": {},
   "outputs": [],
   "source": [
    "cpx = cplex.Cplex()\n",
    "cpx.objective.set_sense(cpx.objective.sense.minimize)"
   ]
  },
  {
   "cell_type": "code",
   "execution_count": 16,
   "metadata": {},
   "outputs": [],
   "source": [
    "c  = [0.0] * n\n",
    "lb = [0.0] * n\n",
    "ub = [1.0] * n"
   ]
  },
  {
   "cell_type": "code",
   "execution_count": 17,
   "metadata": {},
   "outputs": [
    {
     "data": {
      "text/plain": [
       "[[[0, 1], [1.0, 0.003576727911786397]],\n",
       " [[0, 1], [1.0, 0.00344522590632511]],\n",
       " [[0, 1], [1.0, 0.0007969492511468001]],\n",
       " [[0, 1], [1.0, 0.00018690160307030746]],\n",
       " [[0, 1], [1.0, 0.0035750515214236366]],\n",
       " [[0, 1], [1.0, 0.00893492393857598]],\n",
       " [[0, 1], [1.0, 0.005423138353068148]],\n",
       " [[0, 1], [1.0, 0.004447761567604534]],\n",
       " [[0, 1], [1.0, 0.007265204890217466]],\n",
       " [[0, 1], [1.0, 0.0005836669139738493]]]"
      ]
     },
     "execution_count": 17,
     "metadata": {},
     "output_type": "execute_result"
    }
   ],
   "source": [
    "A = []\n",
    "for k in range(n):\n",
    "    A.append([[0,1],[1.0,mu[k]]])\n",
    "A"
   ]
  },
  {
   "cell_type": "code",
   "execution_count": 18,
   "metadata": {},
   "outputs": [
    {
     "data": {
      "text/plain": [
       "['w_1', 'w_2', 'w_3', 'w_4', 'w_5', 'w_6', 'w_7', 'w_8', 'w_9', 'w_10']"
      ]
     },
     "execution_count": 18,
     "metadata": {},
     "output_type": "execute_result"
    }
   ],
   "source": [
    "var_names = [\"w_%s\" % i for i in range(1,n+1)]\n",
    "var_names"
   ]
  },
  {
   "cell_type": "code",
   "execution_count": 19,
   "metadata": {},
   "outputs": [
    {
     "data": {
      "text/plain": [
       "range(0, 2)"
      ]
     },
     "execution_count": 19,
     "metadata": {},
     "output_type": "execute_result"
    }
   ],
   "source": [
    "cpx.linear_constraints.add(rhs=[1.0,ret_minVar], senses=\"EG\")"
   ]
  },
  {
   "cell_type": "code",
   "execution_count": 20,
   "metadata": {},
   "outputs": [
    {
     "data": {
      "text/plain": [
       "range(0, 10)"
      ]
     },
     "execution_count": 20,
     "metadata": {},
     "output_type": "execute_result"
    }
   ],
   "source": [
    "cpx.variables.add(obj=c, lb=lb, ub=ub, columns=A, names=var_names)"
   ]
  },
  {
   "cell_type": "code",
   "execution_count": 21,
   "metadata": {},
   "outputs": [],
   "source": [
    "Qmat = [[list(range(n)), list(2*Q[k,:])] for k in range(n)]"
   ]
  },
  {
   "cell_type": "code",
   "execution_count": 22,
   "metadata": {},
   "outputs": [],
   "source": [
    "cpx.objective.set_quadratic(Qmat)"
   ]
  },
  {
   "cell_type": "code",
   "execution_count": 23,
   "metadata": {},
   "outputs": [
    {
     "name": "stdout",
     "output_type": "stream",
     "text": [
      "Setting number of threads =  4\n"
     ]
    }
   ],
   "source": [
    "cpx.parameters.threads.set(4)\n",
    "print(\"Setting number of threads = \", 4)"
   ]
  },
  {
   "cell_type": "code",
   "execution_count": 24,
   "metadata": {},
   "outputs": [
    {
     "data": {
      "text/plain": [
       "<cplex._internal._ostream.OutputStream at 0x1b8f1867130>"
      ]
     },
     "execution_count": 24,
     "metadata": {},
     "output_type": "execute_result"
    }
   ],
   "source": [
    "# Disable CPLEX output to screen\n",
    "cpx.set_results_stream(None)\n",
    "cpx.set_warning_stream(None)"
   ]
  },
  {
   "cell_type": "code",
   "execution_count": 25,
   "metadata": {},
   "outputs": [],
   "source": [
    "# Compute efficient frontier with CPLEX\n",
    "w_frontC = []\n",
    "var_frontC = []\n",
    "ret_frontC = []\n",
    "for epsilon in targetRet:\n",
    "    cpx.linear_constraints.set_rhs(1,epsilon)\n",
    "    cpx.solve()\n",
    "    w_cur = cpx.solution.get_values()\n",
    "    w_frontC.append(w_cur)\n",
    "    var_frontC.append(np.dot(w_cur, np.dot(Q, w_cur)))\n",
    "    ret_frontC.append(np.dot(mu, w_cur))"
   ]
  },
  {
   "cell_type": "markdown",
   "metadata": {},
   "source": [
    "Plot efficient frontier produced directly with CPLEX solver without CVXPY"
   ]
  },
  {
   "cell_type": "code",
   "execution_count": 26,
   "metadata": {},
   "outputs": [
    {
     "data": {
      "image/png": "[encoded data removed]",
      "text/plain": [
       "<Figure size 720x360 with 1 Axes>"
      ]
     },
     "metadata": {
      "needs_background": "light"
     },
     "output_type": "display_data"
    }
   ],
   "source": [
    "axC = plt.gca()\n",
    "plt.rcParams['figure.figsize'] = [10, 5]\n",
    "#plt.rcParams['figure.dpi'] = 200\n",
    "    \n",
    "# Plot volatility versus expected return for minimum variance portfolio\n",
    "axC.scatter(x=np.sqrt(var_minVar), y=ret_minVar, marker='D', s=50,  color='DarkGreen', label='minimum variance portfolio')\n",
    "\n",
    "# Plot volatility versus expected return for maximum return portfolio\n",
    "axC.scatter(x=np.sqrt(var_maxRet), y=ret_maxRet,  marker='s', s=50, color='DarkMagenta', label='maximum return portfolio')\n",
    "\n",
    "# Plot efficient frontier\n",
    "axC.plot(np.sqrt(var_frontC), ret_frontC, 'k-', label='efficient frontier')\n",
    "\n",
    "# Plot volatility versus expected return for individual stocks\n",
    "axC.scatter(x=np.sqrt(np.diag(Q)), y=mu, color='Blue', label='individual stocks')\n",
    "\n",
    "# Format and display the final plot\n",
    "axC.axis([0.9*np.sqrt(var_minVar), 1.2*np.max(np.sqrt(np.diag(Q))), np.min(mu)-0.1*(np.max(mu)-np.min(mu)), 1.1*ret_maxRet])\n",
    "axC.set_xlabel('Volatility (Standard Deviation)')\n",
    "axC.set_ylabel('Expected Return')\n",
    "plt.title('Efficient Frontier')\n",
    "axC.legend(loc=\"lower right\")\n",
    "axC.grid()\n",
    "plt.show()"
   ]
  }
 ],
 "metadata": {
  "anaconda-cloud": {},
  "kernelspec": {
   "display_name": "Python 3",
   "language": "python",
   "name": "python3"
  },
  "language_info": {
   "codemirror_mode": {
    "name": "ipython",
    "version": 3
   },
   "file_extension": ".py",
   "mimetype": "text/x-python",
   "name": "python",
   "nbconvert_exporter": "python",
   "pygments_lexer": "ipython3",
   "version": "3.8.8"
  }
 },
 "nbformat": 4,
 "nbformat_minor": 1
}
