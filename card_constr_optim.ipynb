{
 "cells": [
  {
   "cell_type": "markdown",
   "metadata": {},
   "source": [
    "# Cardinality constrained portfolio optimization"
   ]
  },
  {
   "cell_type": "markdown",
   "metadata": {},
   "source": [
    "### Import libraries"
   ]
  },
  {
   "cell_type": "code",
   "execution_count": 1,
   "metadata": {},
   "outputs": [],
   "source": [
    "import cplex\n",
    "import cvxpy as cp\n",
    "import numpy as np\n",
    "import matplotlib.pyplot as plt\n",
    "%matplotlib inline"
   ]
  },
  {
   "cell_type": "code",
   "execution_count": 2,
   "metadata": {},
   "outputs": [],
   "source": [
    "np.random.seed(148956)"
   ]
  },
  {
   "cell_type": "markdown",
   "metadata": {},
   "source": [
    "### Generate random data for 10 stocks"
   ]
  },
  {
   "cell_type": "code",
   "execution_count": 3,
   "metadata": {},
   "outputs": [],
   "source": [
    "# Random data for 10 stocks\n",
    "n = 10\n",
    "Q = np.random.random((n,n))\n",
    "Q = np.dot(Q,Q.T)/1000\n",
    "# Q\n",
    "mu = np.random.rand(n) / 100\n",
    "# mu"
   ]
  },
  {
   "cell_type": "markdown",
   "metadata": {},
   "source": [
    "### Cardinality constrained mean-variance optimization problem"
   ]
  },
  {
   "cell_type": "markdown",
   "metadata": {},
   "source": [
    "\\begin{equation}\n",
    " \\begin{array}{rll}\n",
    "  \\displaystyle \\min_{w,z} & w^T Q w \\\\\n",
    "  \\mbox{s.t.} & \\sum_{i=1}^n w_i = 1 \\\\\n",
    "  & \\sum_{i=1}^n z_i = K \\\\\n",
    "  & l \\cdot z \\leq w \\leq u \\cdot z \\\\\n",
    "  & z = \\{0,1\\}\n",
    " \\end{array}\n",
    "\\end{equation}"
   ]
  },
  {
   "cell_type": "markdown",
   "metadata": {},
   "source": [
    "### Define and solve CPLEX model"
   ]
  },
  {
   "cell_type": "code",
   "execution_count": 4,
   "metadata": {},
   "outputs": [],
   "source": [
    "cpx = cplex.Cplex()\n",
    "cpx.objective.set_sense(cpx.objective.sense.minimize)"
   ]
  },
  {
   "cell_type": "markdown",
   "metadata": {},
   "source": [
    "Optimization problem data (linear coefficient vector $c$, vector of lower bounds $lb$ and upper bounds $ub$)"
   ]
  },
  {
   "cell_type": "code",
   "execution_count": 5,
   "metadata": {},
   "outputs": [],
   "source": [
    "c  = [0.0] * 2 * n\n",
    "lb = [0.0] * 2 * n\n",
    "ub = [1.0] * 2 * n"
   ]
  },
  {
   "cell_type": "markdown",
   "metadata": {},
   "source": [
    "Define continuous and binary variables"
   ]
  },
  {
   "cell_type": "code",
   "execution_count": 6,
   "metadata": {},
   "outputs": [
    {
     "data": {
      "text/plain": [
       "'CCCCCCCCCCBBBBBBBBBB'"
      ]
     },
     "execution_count": 6,
     "metadata": {},
     "output_type": "execute_result"
    }
   ],
   "source": [
    "variabtype = \"C\" * n + \"B\" * n\n",
    "variabtype"
   ]
  },
  {
   "cell_type": "markdown",
   "metadata": {},
   "source": [
    "Define matrix $\\tilde{A}$"
   ]
  },
  {
   "cell_type": "code",
   "execution_count": 7,
   "metadata": {},
   "outputs": [
    {
     "data": {
      "text/plain": [
       "[[[0, 2], [1.0, 1.0]],\n",
       " [[0, 3], [1.0, 1.0]],\n",
       " [[0, 4], [1.0, 1.0]],\n",
       " [[0, 5], [1.0, 1.0]],\n",
       " [[0, 6], [1.0, 1.0]],\n",
       " [[0, 7], [1.0, 1.0]],\n",
       " [[0, 8], [1.0, 1.0]],\n",
       " [[0, 9], [1.0, 1.0]],\n",
       " [[0, 10], [1.0, 1.0]],\n",
       " [[0, 11], [1.0, 1.0]],\n",
       " [[1, 2], [1.0, -1.0]],\n",
       " [[1, 3], [1.0, -1.0]],\n",
       " [[1, 4], [1.0, -1.0]],\n",
       " [[1, 5], [1.0, -1.0]],\n",
       " [[1, 6], [1.0, -1.0]],\n",
       " [[1, 7], [1.0, -1.0]],\n",
       " [[1, 8], [1.0, -1.0]],\n",
       " [[1, 9], [1.0, -1.0]],\n",
       " [[1, 10], [1.0, -1.0]],\n",
       " [[1, 11], [1.0, -1.0]]]"
      ]
     },
     "execution_count": 7,
     "metadata": {},
     "output_type": "execute_result"
    }
   ],
   "source": [
    "Atilde = []\n",
    "for k in range(n):\n",
    "    Atilde.append([[0,2+k],[1.0,1.0]])\n",
    "for k in range(n):\n",
    "    Atilde.append([[1,2+k],[1.0,-1.0]])\n",
    "Atilde"
   ]
  },
  {
   "cell_type": "markdown",
   "metadata": {},
   "source": [
    "Define vector $\\tilde{u}$"
   ]
  },
  {
   "cell_type": "code",
   "execution_count": 8,
   "metadata": {},
   "outputs": [
    {
     "data": {
      "text/plain": [
       "'EELLLLLLLLLL'"
      ]
     },
     "execution_count": 8,
     "metadata": {},
     "output_type": "execute_result"
    }
   ],
   "source": [
    "my_sense    = \"EE\" + \"L\" * n\n",
    "my_sense"
   ]
  },
  {
   "cell_type": "code",
   "execution_count": 9,
   "metadata": {},
   "outputs": [
    {
     "data": {
      "text/plain": [
       "[1.0, 2.0, 0.0, 0.0, 0.0, 0.0, 0.0, 0.0, 0.0, 0.0, 0.0, 0.0]"
      ]
     },
     "execution_count": 9,
     "metadata": {},
     "output_type": "execute_result"
    }
   ],
   "source": [
    "u_tilde = [0.0] * (n+2)\n",
    "u_tilde[0] = 1.0 # sum(w)=1.0\n",
    "u_tilde[1] = 2.0 # cardinality K=2\n",
    "u_tilde"
   ]
  },
  {
   "cell_type": "markdown",
   "metadata": {},
   "source": [
    "Define variable names"
   ]
  },
  {
   "cell_type": "code",
   "execution_count": 10,
   "metadata": {},
   "outputs": [
    {
     "data": {
      "text/plain": [
       "['x_1',\n",
       " 'x_2',\n",
       " 'x_3',\n",
       " 'x_4',\n",
       " 'x_5',\n",
       " 'x_6',\n",
       " 'x_7',\n",
       " 'x_8',\n",
       " 'x_9',\n",
       " 'x_10',\n",
       " 'x_11',\n",
       " 'x_12',\n",
       " 'x_13',\n",
       " 'x_14',\n",
       " 'x_15',\n",
       " 'x_16',\n",
       " 'x_17',\n",
       " 'x_18',\n",
       " 'x_19',\n",
       " 'x_20']"
      ]
     },
     "execution_count": 10,
     "metadata": {},
     "output_type": "execute_result"
    }
   ],
   "source": [
    "var_names = [\"x_%s\" % i for i in range(1,2*n+1)]\n",
    "var_names"
   ]
  },
  {
   "cell_type": "markdown",
   "metadata": {},
   "source": [
    "Add linear constraints, bounds and linear part of objective function to CPLEX model"
   ]
  },
  {
   "cell_type": "code",
   "execution_count": 11,
   "metadata": {},
   "outputs": [
    {
     "data": {
      "text/plain": [
       "range(0, 12)"
      ]
     },
     "execution_count": 11,
     "metadata": {},
     "output_type": "execute_result"
    }
   ],
   "source": [
    "cpx.linear_constraints.add(rhs=u_tilde, senses=my_sense)"
   ]
  },
  {
   "cell_type": "code",
   "execution_count": 12,
   "metadata": {},
   "outputs": [
    {
     "data": {
      "text/plain": [
       "range(0, 20)"
      ]
     },
     "execution_count": 12,
     "metadata": {},
     "output_type": "execute_result"
    }
   ],
   "source": [
    "cpx.variables.add(obj=c, lb=lb, ub=ub, columns=Atilde, types=variabtype, names=var_names)"
   ]
  },
  {
   "cell_type": "markdown",
   "metadata": {},
   "source": [
    "Add quadratic part of objective function"
   ]
  },
  {
   "cell_type": "code",
   "execution_count": 13,
   "metadata": {},
   "outputs": [],
   "source": [
    "Qmat = [[list(range(n)), list(2*Q[k,:])] for k in range(n)]"
   ]
  },
  {
   "cell_type": "code",
   "execution_count": 14,
   "metadata": {},
   "outputs": [],
   "source": [
    "for k in range(n):\n",
    "    Qmat.append([[0],[0.0]])"
   ]
  },
  {
   "cell_type": "code",
   "execution_count": 15,
   "metadata": {},
   "outputs": [],
   "source": [
    "cpx.objective.set_quadratic(Qmat)"
   ]
  },
  {
   "cell_type": "markdown",
   "metadata": {},
   "source": [
    "Set concurrent solution algorithm"
   ]
  },
  {
   "cell_type": "code",
   "execution_count": 16,
   "metadata": {},
   "outputs": [
    {
     "name": "stdout",
     "output_type": "stream",
     "text": [
      "Setting number of threads =  4\n"
     ]
    }
   ],
   "source": [
    "cpx.parameters.threads.set(4)\n",
    "print(\"Setting number of threads = \", 4)"
   ]
  },
  {
   "cell_type": "markdown",
   "metadata": {},
   "source": [
    "Compute minimum variance portfolio with cardinality $K=2$"
   ]
  },
  {
   "cell_type": "code",
   "execution_count": 17,
   "metadata": {},
   "outputs": [
    {
     "name": "stdout",
     "output_type": "stream",
     "text": [
      "Version identifier: 20.1.0.0 | 2020-11-10 | 9bedb6d68\n",
      "CPXPARAM_Read_DataCheck                          1\n",
      "CPXPARAM_Threads                                 4\n",
      "Found incumbent of value 0.002856 after 0.01 sec. (0.00 ticks)\n",
      "Tried aggregator 1 time.\n",
      "Reduced MIQP has 12 rows, 20 columns, and 40 nonzeros.\n",
      "Reduced MIQP has 10 binaries, 0 generals, 0 SOSs, and 0 indicators.\n",
      "Reduced MIQP objective Q matrix has 100 nonzeros.\n",
      "Presolve time = 0.02 sec. (0.03 ticks)\n",
      "Probing time = 0.00 sec. (0.00 ticks)\n",
      "Tried aggregator 1 time.\n",
      "Reduced MIQP has 12 rows, 20 columns, and 40 nonzeros.\n",
      "Reduced MIQP has 10 binaries, 0 generals, 0 SOSs, and 0 indicators.\n",
      "Reduced MIQP objective Q matrix has 100 nonzeros.\n",
      "Presolve time = 0.00 sec. (0.03 ticks)\n",
      "Classifier predicts products in MIQP should be linearized.\n",
      "Probing time = 0.00 sec. (0.00 ticks)\n",
      "MIP emphasis: balance optimality and feasibility.\n",
      "MIP search method: dynamic search.\n",
      "Parallel mode: deterministic, using up to 4 threads.\n",
      "Root relaxation solution time = 0.00 sec. (0.27 ticks)\n",
      "\n",
      "        Nodes                                         Cuts/\n",
      "   Node  Left     Objective  IInf  Best Integer    Best Bound    ItCnt     Gap\n",
      "\n",
      "*     0+    0                            0.0029        0.0000           100.00%\n",
      "      0     0        0.0016     4        0.0029        0.0016       10   42.27%\n",
      "*     0+    0                            0.0021        0.0016            21.22%\n",
      "*     0+    0                            0.0018        0.0016             7.48%\n",
      "      0     2        0.0016     4        0.0018        0.0016       10    7.48%\n",
      "Elapsed time = 0.06 sec. (0.80 ticks, tree = 0.02 MB, solutions = 3)\n",
      "*     6     1      integral     0        0.0018        0.0016       29    6.87%\n",
      "\n",
      "Root node processing (before b&c):\n",
      "  Real time             =    0.05 sec. (0.77 ticks)\n",
      "Parallel b&c, 4 threads:\n",
      "  Real time             =    0.01 sec. (0.23 ticks)\n",
      "  Sync time (average)   =    0.00 sec.\n",
      "  Wait time (average)   =    0.00 sec.\n",
      "                          ------------\n",
      "Total (root+branch&cut) =    0.06 sec. (1.00 ticks)\n"
     ]
    }
   ],
   "source": [
    "cpx.solve()"
   ]
  },
  {
   "cell_type": "code",
   "execution_count": 18,
   "metadata": {},
   "outputs": [
    {
     "name": "stdout",
     "output_type": "stream",
     "text": [
      "Solution status =  101 : MIP_optimal\n",
      "Solution value  =  0.001770483074605611\n"
     ]
    }
   ],
   "source": [
    "print(\"Solution status = \", cpx.solution.get_status(), \":\", end=' ')\n",
    "print(cpx.solution.status[cpx.solution.get_status()])\n",
    "print(\"Solution value  = \", cpx.solution.get_objective_value())"
   ]
  },
  {
   "cell_type": "code",
   "execution_count": 19,
   "metadata": {},
   "outputs": [
    {
     "name": "stdout",
     "output_type": "stream",
     "text": [
      "x_1  =  0.000\n",
      "x_2  =  0.000\n",
      "x_3  =  0.561\n",
      "x_4  =  0.000\n",
      "x_5  =  0.000\n",
      "x_6  =  0.000\n",
      "x_7  =  0.000\n",
      "x_8  =  0.000\n",
      "x_9  =  0.439\n",
      "x_10 =  0.000\n",
      "x_11 =  0.000\n",
      "x_12 =  0.000\n",
      "x_13 =  1.000\n",
      "x_14 = -0.000\n",
      "x_15 =  0.000\n",
      "x_16 =  0.000\n",
      "x_17 =  0.000\n",
      "x_18 =  0.000\n",
      "x_19 =  1.000\n",
      "x_20 = -0.000\n"
     ]
    }
   ],
   "source": [
    "for i in range(len(cpx.solution.get_values())):\n",
    "    print(\"{0:5s}={1:7.3f}\".format(var_names[i],cpx.solution.get_values()[i]))"
   ]
  },
  {
   "cell_type": "code",
   "execution_count": 20,
   "metadata": {},
   "outputs": [
    {
     "name": "stdout",
     "output_type": "stream",
     "text": [
      "Minimum variance portfolio with cardinality K=2:\n",
      "\n",
      "Solution status = MIP_optimal\n",
      "Solution value = 0.001770483074605611\n",
      "Variance       = 0.001770483074605611\n",
      "Return = 0.007582478859683787\n",
      "Standard deviation = 0.04207710867687573\n"
     ]
    }
   ],
   "source": [
    "w_minVar2 = cpx.solution.get_values()[:n]\n",
    "var_minVar2 = np.dot(w_minVar2, np.dot(Q, w_minVar2))\n",
    "ret_minVar2 = np.dot(mu, w_minVar2)\n",
    "print(\"Minimum variance portfolio with cardinality K=2:\\n\")\n",
    "print(\"Solution status =\", cpx.solution.status[cpx.solution.get_status()])\n",
    "print(\"Solution value =\", cpx.solution.get_objective_value())\n",
    "print(\"Variance       =\", var_minVar2)\n",
    "print(\"Return =\", ret_minVar2)\n",
    "print(\"Standard deviation =\", np.sqrt(var_minVar2))"
   ]
  },
  {
   "cell_type": "markdown",
   "metadata": {},
   "source": [
    "Compute minimum variance portfolios with cardinality $K=1,2,...,10$"
   ]
  },
  {
   "cell_type": "code",
   "execution_count": 21,
   "metadata": {},
   "outputs": [
    {
     "data": {
      "text/plain": [
       "<cplex._internal._ostream.OutputStream at 0x1eb9c8022b0>"
      ]
     },
     "execution_count": 21,
     "metadata": {},
     "output_type": "execute_result"
    }
   ],
   "source": [
    "# Disable CPLEX output to screen\n",
    "cpx.set_results_stream(None)\n",
    "cpx.set_warning_stream(None)"
   ]
  },
  {
   "cell_type": "code",
   "execution_count": 22,
   "metadata": {},
   "outputs": [],
   "source": [
    "w_cardC = []\n",
    "var_cardC = []\n",
    "p_cardC = []\n",
    "for card in range(1,n+1):\n",
    "    p_cardC.append(card)\n",
    "    cpx.linear_constraints.set_rhs(1,card)\n",
    "    cpx.solve()\n",
    "    w_cur = cpx.solution.get_values()[:n]\n",
    "    w_cardC.append(w_cur)\n",
    "    var_cardC.append(np.dot(w_cur, np.dot(Q, w_cur)))"
   ]
  },
  {
   "cell_type": "code",
   "execution_count": 23,
   "metadata": {},
   "outputs": [
    {
     "data": {
      "image/png": "[encoded data removed]",
      "text/plain": [
       "<Figure size 432x288 with 1 Axes>"
      ]
     },
     "metadata": {
      "needs_background": "light"
     },
     "output_type": "display_data"
    }
   ],
   "source": [
    "axC = plt.gca()\n",
    "axC.plot(p_cardC, np.sqrt(var_cardC), 'bo')\n",
    "\n",
    "axC.set_xlim([0,n+1])\n",
    "axC.set_xlabel('Portfolio cardinality')\n",
    "axC.set_ylabel('Portfolio standard deviation')\n",
    "plt.title('Minimum Variance Portfolios with Cardinality Constraint')\n",
    "axC.grid()\n",
    "plt.show()"
   ]
  },
  {
   "cell_type": "markdown",
   "metadata": {},
   "source": [
    "### Define and solve CPLEX model using CVXPY modeling environment"
   ]
  },
  {
   "cell_type": "markdown",
   "metadata": {},
   "source": [
    "Compute minimum variance portfolio with cardinality $K=2$"
   ]
  },
  {
   "cell_type": "code",
   "execution_count": 24,
   "metadata": {},
   "outputs": [
    {
     "name": "stdout",
     "output_type": "stream",
     "text": [
      "Version identifier: 20.1.0.0 | 2020-11-10 | 9bedb6d68\n",
      "CPXPARAM_Read_DataCheck                          1\n",
      "CPXPARAM_Threads                                 4\n",
      "Found incumbent of value 0.002856 after 0.00 sec. (0.00 ticks)\n"
     ]
    },
    {
     "name": "stderr",
     "output_type": "stream",
     "text": [
      "Warning:  Non-integral bounds for integer variables rounded.\n"
     ]
    },
    {
     "name": "stdout",
     "output_type": "stream",
     "text": [
      "Tried aggregator 1 time.\n",
      "MIQP Presolve eliminated 10 rows and 0 columns.\n",
      "Reduced MIQP has 12 rows, 20 columns, and 40 nonzeros.\n",
      "Reduced MIQP has 10 binaries, 0 generals, 0 SOSs, and 0 indicators.\n",
      "Reduced MIQP objective Q matrix has 100 nonzeros.\n",
      "Presolve time = 0.00 sec. (0.03 ticks)\n",
      "Probing time = 0.00 sec. (0.00 ticks)\n",
      "Tried aggregator 1 time.\n",
      "Reduced MIQP has 12 rows, 20 columns, and 40 nonzeros.\n",
      "Reduced MIQP has 10 binaries, 0 generals, 0 SOSs, and 0 indicators.\n",
      "Reduced MIQP objective Q matrix has 100 nonzeros.\n",
      "Presolve time = 0.00 sec. (0.03 ticks)\n",
      "Classifier predicts products in MIQP should be linearized.\n",
      "Probing time = 0.00 sec. (0.00 ticks)\n",
      "MIP emphasis: balance optimality and feasibility.\n",
      "MIP search method: dynamic search.\n",
      "Parallel mode: deterministic, using up to 4 threads.\n",
      "Root relaxation solution time = 0.00 sec. (0.27 ticks)\n",
      "\n",
      "        Nodes                                         Cuts/\n",
      "   Node  Left     Objective  IInf  Best Integer    Best Bound    ItCnt     Gap\n",
      "\n",
      "*     0+    0                            0.0029        0.0000           100.00%\n",
      "      0     0        0.0016     4        0.0029        0.0016       10   42.27%\n",
      "*     0+    0                            0.0021        0.0016            21.22%\n",
      "*     0+    0                            0.0018        0.0016             7.48%\n",
      "      0     2        0.0016     4        0.0018        0.0016       10    7.48%\n",
      "Elapsed time = 0.02 sec. (0.80 ticks, tree = 0.02 MB, solutions = 3)\n",
      "*     6     1      integral     0        0.0018        0.0016       29    6.87%\n",
      "\n",
      "Root node processing (before b&c):\n",
      "  Real time             =    0.02 sec. (0.77 ticks)\n",
      "Parallel b&c, 4 threads:\n",
      "  Real time             =    0.01 sec. (0.23 ticks)\n",
      "  Sync time (average)   =    0.01 sec.\n",
      "  Wait time (average)   =    0.00 sec.\n",
      "                          ------------\n",
      "Total (root+branch&cut) =    0.03 sec. (1.01 ticks)\n",
      "\n",
      "Solution status:  optimal\n",
      "Solution optimal value:  0.001770483074605611\n",
      "Solution w: \n",
      "[0.        0.        0.5606138 0.        0.        0.        0.\n",
      " 0.        0.4393862 0.       ]\n"
     ]
    }
   ],
   "source": [
    "w = cp.Variable(n)\n",
    "z = cp.Variable(n, boolean=True)\n",
    "K = cp.Parameter()\n",
    "K.value = 2\n",
    "prob = cp.Problem(cp.Minimize(cp.quad_form(w, Q)),\n",
    "                 [sum(w) == 1,\n",
    "                  sum(z) == K,\n",
    "                  w - z <= 0,\n",
    "                  w >= 0])\n",
    "prob.solve(solver=cp.CPLEX, verbose=True,cplex_params={\"threads\": 4})\n",
    "\n",
    "print(\"\\nSolution status: \", prob.status)\n",
    "print(\"Solution optimal value: \", prob.value)\n",
    "print(\"Solution w: \")\n",
    "print(w.value)"
   ]
  },
  {
   "cell_type": "code",
   "execution_count": 25,
   "metadata": {},
   "outputs": [
    {
     "name": "stdout",
     "output_type": "stream",
     "text": [
      "Minimum variance portfolio with cardinality K=2:\n",
      "\n",
      "Solution status = optimal\n",
      "Solution value = 0.001770483074605611\n",
      "Variance       = 0.001770483074605611\n",
      "Standard deviation = 0.04207710867687573\n"
     ]
    }
   ],
   "source": [
    "w_minVar = w.value\n",
    "var_minVar = np.dot(w_minVar, np.dot(Q, w_minVar))\n",
    "print(\"Minimum variance portfolio with cardinality K=2:\\n\")\n",
    "print(\"Solution status =\", prob.status)\n",
    "print(\"Solution value =\", prob.value)\n",
    "print(\"Variance       =\", var_minVar)\n",
    "print(\"Standard deviation =\", np.sqrt(var_minVar))"
   ]
  },
  {
   "cell_type": "markdown",
   "metadata": {},
   "source": [
    "Compute minimum variance portfolios with cardinality $K=1,2,...,10$"
   ]
  },
  {
   "cell_type": "code",
   "execution_count": 26,
   "metadata": {},
   "outputs": [],
   "source": [
    "w_cardP = []\n",
    "var_cardP = []\n",
    "p_cardP = []\n",
    "for card in range(1,n+1):\n",
    "    K.value = card\n",
    "    p_cardP.append(card)\n",
    "    prob.solve(solver=cp.CPLEX, verbose=False,cplex_params={\"threads\": 4})\n",
    "    w_cardP.append(w.value)\n",
    "    var_cardP.append(np.dot(w.value, np.dot(Q, w.value)))"
   ]
  },
  {
   "cell_type": "code",
   "execution_count": 27,
   "metadata": {},
   "outputs": [
    {
     "data": {
      "image/png": "[encoded data removed]",
      "text/plain": [
       "<Figure size 432x288 with 1 Axes>"
      ]
     },
     "metadata": {
      "needs_background": "light"
     },
     "output_type": "display_data"
    }
   ],
   "source": [
    "ax = plt.gca()\n",
    "ax.plot(p_cardP, np.sqrt(var_cardP), 'bo')\n",
    "\n",
    "ax.set_xlim([0,n+1])\n",
    "ax.set_xlabel('Portfolio cardinality')\n",
    "ax.set_ylabel('Portfolio standard deviation')\n",
    "plt.title('Minimum Variance Portfolios with Cardinality Constraint')\n",
    "ax.grid()\n",
    "plt.show()"
   ]
  },
  {
   "cell_type": "code",
   "execution_count": 28,
   "metadata": {},
   "outputs": [
    {
     "data": {
      "text/plain": [
       "[array([0., 0., 1., 0., 0., 0., 0., 0., 0., 0.]),\n",
       " array([0.       , 0.       , 0.5606138, 0.       , 0.       , 0.       ,\n",
       "        0.       , 0.       , 0.4393862, 0.       ]),\n",
       " array([0.        , 0.        , 0.41043802, 0.        , 0.28343094,\n",
       "        0.        , 0.        , 0.        , 0.30613104, 0.        ]),\n",
       " array([0.        , 0.        , 0.38202357, 0.05422462, 0.24845104,\n",
       "        0.        , 0.        , 0.        , 0.31530077, 0.        ]),\n",
       " array([0.        , 0.        , 0.38202357, 0.05422462, 0.24845104,\n",
       "        0.        , 0.        , 0.        , 0.31530077, 0.        ]),\n",
       " array([0.        , 0.        , 0.38202357, 0.05422462, 0.24845104,\n",
       "        0.        , 0.        , 0.        , 0.31530077, 0.        ]),\n",
       " array([0.        , 0.        , 0.38202357, 0.05422462, 0.24845104,\n",
       "        0.        , 0.        , 0.        , 0.31530077, 0.        ]),\n",
       " array([0.        , 0.        , 0.38202357, 0.05422462, 0.24845104,\n",
       "        0.        , 0.        , 0.        , 0.31530077, 0.        ]),\n",
       " array([0.        , 0.        , 0.38202357, 0.05422462, 0.24845104,\n",
       "        0.        , 0.        , 0.        , 0.31530077, 0.        ]),\n",
       " array([0.        , 0.        , 0.38202357, 0.05422462, 0.24845104,\n",
       "        0.        , 0.        , 0.        , 0.31530077, 0.        ])]"
      ]
     },
     "execution_count": 28,
     "metadata": {},
     "output_type": "execute_result"
    }
   ],
   "source": [
    "w_cardP"
   ]
  }
 ],
 "metadata": {
  "anaconda-cloud": {},
  "kernelspec": {
   "display_name": "Python 3",
   "language": "python",
   "name": "python3"
  },
  "language_info": {
   "codemirror_mode": {
    "name": "ipython",
    "version": 3
   },
   "file_extension": ".py",
   "mimetype": "text/x-python",
   "name": "python",
   "nbconvert_exporter": "python",
   "pygments_lexer": "ipython3",
   "version": "3.8.5"
  }
 },
 "nbformat": 4,
 "nbformat_minor": 1
}
