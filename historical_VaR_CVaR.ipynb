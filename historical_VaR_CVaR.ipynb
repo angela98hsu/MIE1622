{
 "cells": [
  {
   "cell_type": "markdown",
   "metadata": {},
   "source": [
    "## Computing VaR and CVaR from Historical Scenarios"
   ]
  },
  {
   "cell_type": "code",
   "execution_count": 1,
   "metadata": {},
   "outputs": [],
   "source": [
    "import numpy as np\n",
    "import pandas as pd\n",
    "import scipy.stats as scs\n",
    "import matplotlib as mpl\n",
    "import matplotlib.pyplot as plt\n",
    "import math\n",
    "%matplotlib inline"
   ]
  },
  {
   "cell_type": "markdown",
   "metadata": {},
   "source": [
    "Specify quantile level for VaR/CVaR"
   ]
  },
  {
   "cell_type": "code",
   "execution_count": 2,
   "metadata": {},
   "outputs": [],
   "source": [
    "alf = 0.99"
   ]
  },
  {
   "cell_type": "markdown",
   "metadata": {},
   "source": [
    "Read Profit/Loss (P/L) data"
   ]
  },
  {
   "cell_type": "code",
   "execution_count": 3,
   "metadata": {},
   "outputs": [],
   "source": [
    "xlsfile = pd.ExcelFile('Hist_prices_Citigroup.xls')\n",
    "PLData = xlsfile.parse('VaR').iloc[1:,3].to_numpy().real"
   ]
  },
  {
   "cell_type": "markdown",
   "metadata": {},
   "source": [
    "Number of historical scenarios"
   ]
  },
  {
   "cell_type": "code",
   "execution_count": 4,
   "metadata": {},
   "outputs": [
    {
     "data": {
      "text/plain": [
       "1007"
      ]
     },
     "execution_count": 4,
     "metadata": {},
     "output_type": "execute_result"
    }
   ],
   "source": [
    "N = len(PLData)\n",
    "N"
   ]
  },
  {
   "cell_type": "markdown",
   "metadata": {},
   "source": [
    "Sort loss data in increasing order"
   ]
  },
  {
   "cell_type": "code",
   "execution_count": 5,
   "metadata": {},
   "outputs": [],
   "source": [
    "loss_1d = np.sort(-PLData)"
   ]
  },
  {
   "cell_type": "markdown",
   "metadata": {},
   "source": [
    "Compute Historical 1-day VaR from the data"
   ]
  },
  {
   "cell_type": "code",
   "execution_count": 6,
   "metadata": {},
   "outputs": [],
   "source": [
    "VaR = loss_1d[int(math.ceil(N * alf)) - 1]"
   ]
  },
  {
   "cell_type": "markdown",
   "metadata": {},
   "source": [
    "Compute Historical 1-day CVaR from the data"
   ]
  },
  {
   "cell_type": "code",
   "execution_count": 7,
   "metadata": {},
   "outputs": [],
   "source": [
    "CVaR = (1 / (N * (1 - alf))) * ((math.ceil(N * alf) - N * alf) * VaR + sum(loss_1d[int(math.ceil(N * alf)):]))"
   ]
  },
  {
   "cell_type": "markdown",
   "metadata": {
    "collapsed": true
   },
   "source": [
    "Compute Normal 1-day VaR from the data"
   ]
  },
  {
   "cell_type": "code",
   "execution_count": 8,
   "metadata": {},
   "outputs": [],
   "source": [
    "VaRn = np.mean(loss_1d) + scs.norm.ppf(alf) * np.std(loss_1d)"
   ]
  },
  {
   "cell_type": "markdown",
   "metadata": {},
   "source": [
    "Compute Normal 1-day CVaR from the data"
   ]
  },
  {
   "cell_type": "code",
   "execution_count": 9,
   "metadata": {},
   "outputs": [],
   "source": [
    "CVaRn = np.mean(loss_1d) + (scs.norm.pdf(scs.norm.ppf(alf)) / (1 - alf)) * np.std(loss_1d)"
   ]
  },
  {
   "cell_type": "code",
   "execution_count": 10,
   "metadata": {},
   "outputs": [
    {
     "name": "stdout",
     "output_type": "stream",
     "text": [
      "Historical 1-day VaR 99.0% = $  2.08, Historical 1-day CVaR 99.0% = $  2.64\n",
      "    Normal 1-day VaR 99.0% = $  1.67,     Normal 1-day CVaR 99.0% = $  1.90\n",
      "\n"
     ]
    }
   ],
   "source": [
    "print ('Historical 1-day VaR %4.1f%% = $%6.2f, Historical 1-day CVaR %4.1f%% = $%6.2f' % (100 * alf, VaR, 100 * alf, CVaR))\n",
    "print ('    Normal 1-day VaR %4.1f%% = $%6.2f,     Normal 1-day CVaR %4.1f%% = $%6.2f\\n' % (100 * alf, VaRn, 100 * alf, CVaRn))"
   ]
  },
  {
   "cell_type": "markdown",
   "metadata": {},
   "source": [
    "Plot a histogram of the distribution of losses in portfolio value"
   ]
  },
  {
   "cell_type": "code",
   "execution_count": 11,
   "metadata": {},
   "outputs": [
    {
     "data": {
      "image/png": "[encoded data removed]",
      "text/plain": [
       "<Figure size 432x288 with 1 Axes>"
      ]
     },
     "metadata": {
      "needs_background": "light"
     },
     "output_type": "display_data"
    }
   ],
   "source": [
    "frequencyCounts, binLocations, patches = plt.hist(loss_1d, 100)\n",
    "normf = (1 / (np.std(loss_1d) * math.sqrt(2 * math.pi))) * np.exp(-0.5 * ((binLocations - np.mean(loss_1d)) / np.std(loss_1d)) ** 2)\n",
    "normf = normf * sum(frequencyCounts) / sum(normf)\n",
    "plt.plot(binLocations, normf, color='r', linewidth=3.0)\n",
    "plt.plot([VaRn, VaRn], [0, max(frequencyCounts) / 2], color='r', linewidth=1, linestyle='-.')\n",
    "plt.plot([VaR, VaR], [0, max(frequencyCounts)/2], color='r', linewidth=1, linestyle='-.')\n",
    "plt.text(0.98 * VaR, max(frequencyCounts) / 1.9, 'VaR')\n",
    "plt.text(0.7 * VaRn, max(frequencyCounts) / 1.9, 'VaRn')\n",
    "plt.xlabel('1-day loss in $ value on 1 unit of stock')\n",
    "plt.ylabel('Frequency')\n",
    "plt.draw()"
   ]
  },
  {
   "cell_type": "code",
   "execution_count": 12,
   "metadata": {},
   "outputs": [
    {
     "data": {
      "text/plain": [
       "<Figure size 432x288 with 0 Axes>"
      ]
     },
     "metadata": {},
     "output_type": "display_data"
    }
   ],
   "source": [
    "#plt.tight_layout()\n",
    "plt.savefig('hVaR.png', dpi=300)\n",
    "plt.savefig('hVaR.pdf')\n",
    "#plt.close(fig)"
   ]
  }
 ],
 "metadata": {
  "kernelspec": {
   "display_name": "Python 3",
   "language": "python",
   "name": "python3"
  },
  "language_info": {
   "codemirror_mode": {
    "name": "ipython",
    "version": 3
   },
   "file_extension": ".py",
   "mimetype": "text/x-python",
   "name": "python",
   "nbconvert_exporter": "python",
   "pygments_lexer": "ipython3",
   "version": "3.8.8"
  }
 },
 "nbformat": 4,
 "nbformat_minor": 1
}
