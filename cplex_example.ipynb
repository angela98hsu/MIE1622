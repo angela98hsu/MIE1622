{
 "cells": [
  {
   "cell_type": "markdown",
   "metadata": {},
   "source": [
    "# Create and optimize a quadratic optimization problem in CPLEX solver"
   ]
  },
  {
   "cell_type": "code",
   "execution_count": 3,
   "metadata": {},
   "outputs": [
    {
     "ename": "SyntaxError",
     "evalue": "invalid syntax (<ipython-input-3-caae06806ea6>, line 1)",
     "output_type": "error",
     "traceback": [
      "\u001b[0;36m  File \u001b[0;32m\"<ipython-input-3-caae06806ea6>\"\u001b[0;36m, line \u001b[0;32m1\u001b[0m\n\u001b[0;31m    conda create - name MIE1622\u001b[0m\n\u001b[0m          ^\u001b[0m\n\u001b[0;31mSyntaxError\u001b[0m\u001b[0;31m:\u001b[0m invalid syntax\n"
     ]
    }
   ],
   "source": [
    "conda create - name MIE1622\n",
    "conda activate MIE1622\n",
    "\n",
    "conda install -c conda- forge cvxpy"
   ]
  },
  {
   "cell_type": "markdown",
   "metadata": {},
   "source": [
    "### Quadratic optimization problem"
   ]
  },
  {
   "cell_type": "markdown",
   "metadata": {},
   "source": [
    "\\begin{equation}\n",
    "\\begin{array}{rl}\n",
    "\\displaystyle \\mbox{max}_{x} & x_1 + 2 x_2 + 3 x_3 - 0.5 ( 33 x_1^2 + \\\\\n",
    "& 22 x_2^2 + 11 x_3^2 -  12 x_1 x_2 - 23 x_2 x_3 ) \\\\\n",
    "{\\rm s.t.} & - x_1 + x_2 + x_3 \\leq 20 \\\\\n",
    "& x_1 - 3 x_2 + x_3 \\leq 30 \\\\\n",
    "& 0 \\leq x_1 \\leq 40 \\\\\n",
    "& x_2 \\geq 0,~ x_3 \\geq 0\n",
    "\\end{array}\n",
    "\\end{equation}"
   ]
  },
  {
   "cell_type": "markdown",
   "metadata": {},
   "source": [
    "### Import libraries"
   ]
  },
  {
   "cell_type": "markdown",
   "metadata": {},
   "source": [
    "Install CPLEX solver. To setup CPLEX solver for Python:\n",
    "* Use the script `setup.py` located in the directory `yourCPLEXhome/python`\n",
    "* Execute the following command from the command line `python yourCPLEXhome/python/setup.py install` or `python yourCPLEXhome/python/setup.py install --home yourPythonPackageshome`\n",
    "* Set the environment variable `PYTHONPATH` to `yourCPLEXhome/python/VERSION/PLATFORM`"
   ]
  },
  {
   "cell_type": "code",
   "execution_count": 1,
   "metadata": {},
   "outputs": [],
   "source": [
    "from __future__ import print_function\n",
    "import cplex"
   ]
  },
  {
   "cell_type": "markdown",
   "metadata": {},
   "source": [
    "### Define CPLEX model"
   ]
  },
  {
   "cell_type": "markdown",
   "metadata": {},
   "source": [
    "Initialize CPLEX object"
   ]
  },
  {
   "cell_type": "code",
   "execution_count": 2,
   "metadata": {},
   "outputs": [],
   "source": [
    "cpx = cplex.Cplex()\n",
    "cpx.objective.set_sense(cpx.objective.sense.maximize)"
   ]
  },
  {
   "cell_type": "markdown",
   "metadata": {},
   "source": [
    "Define linear part of objective function and bounds on variables"
   ]
  },
  {
   "cell_type": "code",
   "execution_count": 3,
   "metadata": {},
   "outputs": [],
   "source": [
    "c = [1.0, 2.0, 3.0]\n",
    "ub = [40.0, cplex.infinity, cplex.infinity]"
   ]
  },
  {
   "cell_type": "markdown",
   "metadata": {},
   "source": [
    "Define constraints `cols` and add right-hand-side (`rhs`) of constraints"
   ]
  },
  {
   "cell_type": "code",
   "execution_count": 4,
   "metadata": {},
   "outputs": [
    {
     "data": {
      "text/plain": [
       "range(0, 2)"
      ]
     },
     "execution_count": 4,
     "metadata": {},
     "output_type": "execute_result"
    }
   ],
   "source": [
    "cols = [[[0, 1], [-1.0, 1.0]],\n",
    "        [[0, 1], [1.0, -3.0]],\n",
    "        [[0, 1], [1.0, 1.0]]]\n",
    "cpx.linear_constraints.add(rhs=[20.0, 30.0], senses=\"LL\")"
   ]
  },
  {
   "cell_type": "markdown",
   "metadata": {},
   "source": [
    "Add linear part of objective function, bounds on variables, and linear constraints to CPLEX model"
   ]
  },
  {
   "cell_type": "code",
   "execution_count": 5,
   "metadata": {},
   "outputs": [
    {
     "data": {
      "text/plain": [
       "range(0, 3)"
      ]
     },
     "execution_count": 5,
     "metadata": {},
     "output_type": "execute_result"
    }
   ],
   "source": [
    "cpx.variables.add(obj=c, ub=ub, columns=cols,\n",
    "                  names=[\"one\", \"two\", \"three\"])"
   ]
  },
  {
   "cell_type": "markdown",
   "metadata": {},
   "source": [
    "Add quadratic part of objective function to CPLEX model"
   ]
  },
  {
   "cell_type": "code",
   "execution_count": 6,
   "metadata": {},
   "outputs": [],
   "source": [
    "qmat = [[[0, 1], [-33.0, 6.0]],\n",
    "        [[0, 1, 2], [6.0, -22.0, 11.5]],\n",
    "        [[1, 2], [11.5, -11.0]]]\n",
    "cpx.objective.set_quadratic(qmat)"
   ]
  },
  {
   "cell_type": "markdown",
   "metadata": {},
   "source": [
    "Set CPLEX parameters"
   ]
  },
  {
   "cell_type": "code",
   "execution_count": 7,
   "metadata": {},
   "outputs": [
    {
     "name": "stdout",
     "output_type": "stream",
     "text": [
      "Setting solution algorithm =  6\n"
     ]
    }
   ],
   "source": [
    "alg = cpx.parameters.lpmethod.values\n",
    "print(\"Setting solution algorithm = \", alg.concurrent)\n",
    "cpx.parameters.qpmethod.set(alg.concurrent)"
   ]
  },
  {
   "cell_type": "markdown",
   "metadata": {},
   "source": [
    "### Solve CPLEX model"
   ]
  },
  {
   "cell_type": "markdown",
   "metadata": {},
   "source": [
    "Optimize the problem"
   ]
  },
  {
   "cell_type": "code",
   "execution_count": 8,
   "metadata": {},
   "outputs": [
    {
     "name": "stdout",
     "output_type": "stream",
     "text": [
      "Version identifier: 20.1.0.0 | 2020-11-10 | 9bedb6d68\n",
      "CPXPARAM_Read_DataCheck                          1\n",
      "CPXPARAM_QPMethod                                6\n",
      "Parallel mode: deterministic, using up to 8 threads for concurrent optimization:\n",
      " * Starting dual Simplex on 1 thread...\n",
      " * Starting Barrier on 6 threads...\n",
      " * Starting primal Simplex on 1 thread...\n",
      "Number of nonzeros in lower triangle of Q = 2\n",
      "Using Approximate Minimum Degree ordering\n",
      "Total time for automatic ordering = 0.02 sec. (0.00 ticks)\n",
      "Summary statistics for factor of Q:\n",
      "  Rows in Factor            = 3\n",
      "  Integer space required    = 3\n",
      "  Total non-zeros in factor = 6\n",
      "  Total FP ops to factor    = 14\n",
      "Tried aggregator 1 time.\n",
      "No QP presolve or aggregator reductions.\n",
      "Presolve time = 0.03 sec. (0.00 ticks)\n",
      "\n",
      "Iteration log . . .\n",
      "Iteration:     1    Phase I obj   =             0.015152\n",
      "\n",
      "Dual simplex solved model.\n",
      "\n"
     ]
    }
   ],
   "source": [
    "cpx.solve()"
   ]
  },
  {
   "cell_type": "markdown",
   "metadata": {},
   "source": [
    "Display the solution"
   ]
  },
  {
   "cell_type": "code",
   "execution_count": 9,
   "metadata": {},
   "outputs": [
    {
     "name": "stdout",
     "output_type": "stream",
     "text": [
      "Solution status =  1 : optimal\n",
      "Solution value  =  2.015616523289157\n"
     ]
    }
   ],
   "source": [
    "# solution.get_status() returns an integer code\n",
    "print(\"Solution status = \", cpx.solution.get_status(), \":\", end=' ')\n",
    "# the following line prints the corresponding string\n",
    "print(cpx.solution.status[cpx.solution.get_status()])\n",
    "print(\"Solution value  = \", cpx.solution.get_objective_value())"
   ]
  },
  {
   "cell_type": "code",
   "execution_count": 10,
   "metadata": {},
   "outputs": [
    {
     "name": "stdout",
     "output_type": "stream",
     "text": [
      "Column  0 :   Value =   0.139115  Reduced Cost =  -0.000000\n",
      "Column  1 :   Value =   0.598465  Reduced Cost =  -0.000000\n",
      "Column  2 :   Value =   0.898396  Reduced Cost =  -0.000000\n",
      "Row  0 :   Slack =  18.642254  Pi =  -0.000000\n",
      "Row  1 :   Slack =  30.757886  Pi =  -0.000000\n"
     ]
    }
   ],
   "source": [
    "numcols = cpx.variables.get_num()\n",
    "for j in range(numcols):\n",
    "    print(\"Column \", j, \":  \", end=' ')\n",
    "    print(\"Value = %10f \" % cpx.solution.get_values(j), end=' ')\n",
    "    print(\"Reduced Cost = %10f\" % cpx.solution.get_reduced_costs(j))\n",
    "\n",
    "numrows = cpx.linear_constraints.get_num()\n",
    "for i in range(numrows):\n",
    "    print(\"Row \", i, \":  \", end=' ')\n",
    "    print(\"Slack = %10f \" % cpx.solution.get_linear_slacks(i), end=' ')\n",
    "    print(\"Pi = %10f\" % cpx.solution.get_dual_values(i))"
   ]
  },
  {
   "cell_type": "markdown",
   "metadata": {},
   "source": [
    "### Solve CPLEX model using CVXPY modeling environment\n",
    "\n",
    "CVXPY is a Python-embedded modeling language for convex optimization problems. It automatically transforms the problem into standard form, calls a solver, and unpacks the results.\n",
    "\n",
    "CVXPY can be installed with `conda install -c conda-forge cvxpy` or `pip install cvxpy`."
   ]
  },
  {
   "cell_type": "code",
   "execution_count": 11,
   "metadata": {},
   "outputs": [],
   "source": [
    "#!pip install cvxpy"
   ]
  },
  {
   "cell_type": "code",
   "execution_count": 12,
   "metadata": {},
   "outputs": [],
   "source": [
    "import cvxpy as cp\n",
    "import numpy as np"
   ]
  },
  {
   "cell_type": "code",
   "execution_count": 13,
   "metadata": {},
   "outputs": [
    {
     "name": "stdout",
     "output_type": "stream",
     "text": [
      "Version identifier: 20.1.0.0 | 2020-11-10 | 9bedb6d68\n",
      "CPXPARAM_Read_DataCheck                          1\n",
      "CPXPARAM_QPMethod                                6\n",
      "Parallel mode: deterministic, using up to 8 threads for concurrent optimization:\n",
      " * Starting dual Simplex on 1 thread...\n",
      " * Starting Barrier on 6 threads...\n",
      " * Starting primal Simplex on 1 thread...\n",
      "Number of nonzeros in lower triangle of Q = 2\n",
      "Using Approximate Minimum Degree ordering\n",
      "Total time for automatic ordering = 0.01 sec. (0.00 ticks)\n",
      "Summary statistics for factor of Q:\n",
      "  Rows in Factor            = 3\n",
      "  Integer space required    = 3\n",
      "  Total non-zeros in factor = 6\n",
      "  Total FP ops to factor    = 14\n",
      "Tried aggregator 1 time.\n",
      "QP Presolve eliminated 8 rows and 0 columns.\n",
      "Number of nonzeros in lower triangle of Q = 2\n",
      "Using Approximate Minimum Degree ordering\n",
      "Total time for automatic ordering = 0.02 sec. (0.00 ticks)\n",
      "Summary statistics for factor of Q:\n",
      "  Rows in Factor            = 3\n",
      "  Integer space required    = 3\n",
      "  Total non-zeros in factor = 6\n",
      "  Total FP ops to factor    = 14\n",
      "Reduced QP has 2 rows, 3 columns, and 6 nonzeros.\n",
      "Reduced QP objective Q matrix has 7 nonzeros.\n",
      "Presolve time = 0.05 sec. (0.00 ticks)\n",
      "\n",
      "Iteration log . . .\n",
      "Iteration:     1    Phase I obj   =            -0.015152\n",
      "\n",
      "Dual simplex solved model.\n",
      "\n",
      "\n",
      "Solution status:  optimal\n",
      "Solution optimal value:  2.015616523289157\n",
      "Solution x: \n",
      "[0.13911493 0.59846547 0.89839572]\n",
      "A dual solution corresponding to the inequality constraints: \n",
      "[-0. -0.]\n"
     ]
    }
   ],
   "source": [
    "Q = np.array([[-33.0, 6.0, 0.0], [6.0, -22.0, 11.5], [0., 11.5, -11.0]])\n",
    "c = np.array([1., 2., 3.])\n",
    "A = np.array([[-1., 1., 1.], [1., -3., 1.]])\n",
    "b = np.array([20., 30.])\n",
    "ub = np.array([40., np.inf, np.inf])\n",
    "x = cp.Variable(3)\n",
    "prob = cp.Problem(cp.Maximize((1/2)*cp.quad_form(x, Q) + c.T@x),\n",
    "                 [A@x <= b,\n",
    "                  x >= 0, x <= ub])\n",
    "#prob = cp.Problem(cp.Maximize((1/2)*cp.quad_form(x, Q) + c.T@x),\n",
    "#                 [A@x <= b,\n",
    "#                  x >= 0, x[0] <= 40.])\n",
    "prob.solve(solver=cp.CPLEX, verbose=True,cplex_params={\"qpmethod\": 6})\n",
    "\n",
    "# Print result.\n",
    "print(\"\\nSolution status: \", prob.status)\n",
    "print(\"Solution optimal value: \", prob.value)\n",
    "print(\"Solution x: \")\n",
    "print(x.value)\n",
    "print(\"A dual solution corresponding to the inequality constraints: \")\n",
    "print(prob.constraints[0].dual_value)"
   ]
  }
 ],
 "metadata": {
  "anaconda-cloud": {},
  "kernelspec": {
   "display_name": "Python 3",
   "language": "python",
   "name": "python3"
  },
  "language_info": {
   "codemirror_mode": {
    "name": "ipython",
    "version": 3
   },
   "file_extension": ".py",
   "mimetype": "text/x-python",
   "name": "python",
   "nbconvert_exporter": "python",
   "pygments_lexer": "ipython3",
   "version": "3.8.8"
  }
 },
 "nbformat": 4,
 "nbformat_minor": 1
}
